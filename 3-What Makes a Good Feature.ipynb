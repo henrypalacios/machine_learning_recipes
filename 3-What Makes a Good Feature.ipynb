{
 "cells": [
  {
   "cell_type": "markdown",
   "metadata": {},
   "source": [
    "# Part3\n",
    "\n",
    "What Makes a Good Feature - [Link](https://www.youtube.com/watch?v=N9fDIAflCMY&index=5&list=PLOU2XLYxmsIIuiBfYad6rFYQU_jL2ryal)"
   ]
  },
  {
   "cell_type": "markdown",
   "metadata": {},
   "source": [
    "So when we think of a Good feature, we have to consider how it looks for different values in a population, these must be independent, informative and simple."
   ]
  },
  {
   "cell_type": "code",
   "execution_count": 2,
   "metadata": {
    "collapsed": true
   },
   "outputs": [],
   "source": [
    "import matplotlib.pyplot as plt\n",
    "import numpy as np\n",
    "\n",
    "# Create population of 1000 dog, 50/50 greyhound/labrador\n",
    "greyhounds = 500\n",
    "labs = 500"
   ]
  },
  {
   "cell_type": "code",
   "execution_count": 10,
   "metadata": {
    "collapsed": false
   },
   "outputs": [
    {
     "name": "stdout",
     "output_type": "stream",
     "text": [
      "grayhounds: [ 33.94261377  18.03663444  27.98646649  29.31230392  25.44525665]\n",
      "labradors: [ 33.11856233  18.76533417  18.29926283  21.32044525  30.83189643]\n"
     ]
    }
   ],
   "source": [
    "# greyhounds are average 28\" tall, +/- 4\"\n",
    "grey_height = 28 + 4 * np.random.randn(greyhounds)\n",
    "# And labradors are average 24\" tall, +/- 4\"\n",
    "lab_height = 24 + 4 * np.random.randn(labs)\n",
    "\n",
    "# we can visualize 5 for each\n",
    "print('grayhounds:' ,grey_height[:5])\n",
    "print('labradors:' ,lab_height[:5])"
   ]
  },
  {
   "cell_type": "code",
   "execution_count": 12,
   "metadata": {
    "collapsed": false
   },
   "outputs": [
    {
     "data": {
      "image/png": "[encoded data removed]",
      "text/plain": [
       "<matplotlib.figure.Figure at 0x7fe5e38216a0>"
      ]
     },
     "metadata": {},
     "output_type": "display_data"
    }
   ],
   "source": [
    "# Greyounds - red, labradors - blue\n",
    "plt.hist([grey_height, lab_height], stacked=True, color=['r', 'b'])\n",
    "plt.show()"
   ]
  },
  {
   "cell_type": "markdown",
   "metadata": {},
   "source": [
    "Exactly how many features you should use is mor ant art than science. The Ideal features should to be:\n",
    "- Independent\n",
    "- Informative\n",
    "- Simple"
   ]
  },
  {
   "cell_type": "code",
   "execution_count": null,
   "metadata": {
    "collapsed": true
   },
   "outputs": [],
   "source": []
  }
 ],
 "metadata": {
  "anaconda-cloud": {},
  "kernelspec": {
   "display_name": "Python [conda root]",
   "language": "python",
   "name": "conda-root-py"
  },
  "language_info": {
   "codemirror_mode": {
    "name": "ipython",
    "version": 3
   },
   "file_extension": ".py",
   "mimetype": "text/x-python",
   "name": "python",
   "nbconvert_exporter": "python",
   "pygments_lexer": "ipython3",
   "version": "3.5.2"
  }
 },
 "nbformat": 4,
 "nbformat_minor": 0
}
