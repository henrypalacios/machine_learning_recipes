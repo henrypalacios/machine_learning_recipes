{
 "cells": [
  {
   "cell_type": "markdown",
   "metadata": {},
   "source": [
    "# Part2\n",
    "\n",
    "Visualizing a Decision Tree - [Link](https://www.youtube.com/watch?v=tNa99PG8hR8&list=PLOU2XLYxmsIIuiBfYad6rFYQU_jL2ryal&index=6)"
   ]
  },
  {
   "cell_type": "markdown",
   "metadata": {},
   "source": [
    "Import real dataset, add code to visualize it, and practice reading it.\n",
    "\n",
    "Objectives:  \n",
    "1-Import already includes Iris [dataset](http://scikit-learn.org/stable/datasets/) \"load_iris\"  \n",
    "2-Train a classifier  \n",
    "3-Predict label for new flower  \n",
    "4-Visualize the tree"
   ]
  },
  {
   "cell_type": "code",
   "execution_count": 18,
   "metadata": {
    "collapsed": false
   },
   "outputs": [
    {
     "name": "stdout",
     "output_type": "stream",
     "text": [
      "['sepal length (cm)', 'sepal width (cm)', 'petal length (cm)', 'petal width (cm)']\n",
      "['setosa' 'versicolor' 'virginica']\n",
      "[ 5.1  3.5  1.4  0.2]\n",
      "1\n"
     ]
    }
   ],
   "source": [
    "from sklearn.datasets import load_iris\n",
    "\n",
    "iris = load_iris()\n",
    "print(iris.feature_names)\n",
    "print(iris.target_names)\n",
    "print(iris.data[0])  #first row of dataflower\n",
    "print(iris.target[50])  #contains the labels converted in integers\n",
    "\n",
    "# print entire dataset\n",
    "#for i in range(len(iris.target)):\n",
    "#    print(\"%d- features %s label: %s\" % (i, iris.data[i], iris.target[i]))\n",
    "\n"
   ]
  },
  {
   "cell_type": "code",
   "execution_count": 19,
   "metadata": {
    "collapsed": false
   },
   "outputs": [
    {
     "name": "stdout",
     "output_type": "stream",
     "text": [
      "[0 1 2]\n",
      "[0 1 2]\n"
     ]
    }
   ],
   "source": [
    "import numpy as np\n",
    "from sklearn import tree\n",
    "\n",
    "# found at indices: 0 , 50, 100 \n",
    "test_idx = [0, 50, 100]\n",
    "\n",
    "# training data, remove the data used in test\n",
    "train_target = np.delete(iris.target, test_idx)\n",
    "train_data = np.delete(iris.data, test_idx, axis=0)\n",
    "\n",
    "# testing data\n",
    "test_target = iris.target[test_idx]\n",
    "test_data = iris.data[test_idx]\n",
    "\n",
    "# create new classifier\n",
    "clf = tree.DecisionTreeClassifier()\n",
    "\n",
    "# train on training data\n",
    "clf.fit(train_data, train_target)\n",
    "\n",
    "# what we expect 0 (setosa), 1 (Versicolor), 2 (Virginica)\n",
    "print(test_target)\n",
    "# get predicts\n",
    "print(clf.predict(test_data))"
   ]
  },
  {
   "cell_type": "markdown",
   "metadata": {},
   "source": [
    "### Vizualize with http://graphviz.org"
   ]
  },
  {
   "cell_type": "code",
   "execution_count": 27,
   "metadata": {
    "collapsed": false
   },
   "outputs": [
    {
     "name": "stdout",
     "output_type": "stream",
     "text": [
      "The scikit-learn version is 0.18.1.\n"
     ]
    }
   ],
   "source": [
    "# Visualize the tree, not working for me with python 3.5.2\n",
    "\n",
    "#from sklearn.externals.six import StringIO\n",
    "#import pydot\n",
    "\n",
    "#dot_data = StringIO()\n",
    "#tree.export_graphviz(clf, out_file=dot_data)\n",
    "#graph = pydot.graph_from_dot_data(dot_data.getvalue())\n",
    "#graph.write_pdf(\"iris.pdf\")\n",
    "\n",
    "\n",
    "\n",
    "#from sklearn.externals.six import StringIO\n",
    "#import graphviz\n",
    "\n",
    "\n",
    "#tree.export_graphviz(tree, out_file=\"mytree.dot\")\n",
    "#with open(\"mytree.dot\") as f:\n",
    "#    dot_graph = f.read()\n",
    "#graphviz.Source(dot_graph)\n",
    "\n",
    "import sklearn\n",
    "print('The scikit-learn version is {}.'.format(sklearn.__version__))"
   ]
  },
  {
   "cell_type": "code",
   "execution_count": null,
   "metadata": {
    "collapsed": true
   },
   "outputs": [],
   "source": []
  }
 ],
 "metadata": {
  "anaconda-cloud": {},
  "kernelspec": {
   "display_name": "Python [conda root]",
   "language": "python",
   "name": "conda-root-py"
  },
  "language_info": {
   "codemirror_mode": {
    "name": "ipython",
    "version": 3
   },
   "file_extension": ".py",
   "mimetype": "text/x-python",
   "name": "python",
   "nbconvert_exporter": "python",
   "pygments_lexer": "ipython3",
   "version": "3.5.2"
  }
 },
 "nbformat": 4,
 "nbformat_minor": 0
}
